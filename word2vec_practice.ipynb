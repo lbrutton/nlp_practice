{
 "cells": [
  {
   "cell_type": "markdown",
   "id": "acute-plate",
   "metadata": {},
   "source": [
    "### 1) Import libraries and pull sample text:\n",
    "- Import all the necessary libraries\n",
    "- Pull some sample text from this Wikipedia page: https://en.wikipedia.org/wiki/Artificial_intelligence\n",
    "- Use beautiful soup to store all the paragraphs from that article into a large string for further processing"
   ]
  },
  {
   "cell_type": "code",
   "execution_count": 74,
   "id": "variable-alberta",
   "metadata": {},
   "outputs": [],
   "source": [
    "import bs4 as bs\n",
    "import urllib.request\n",
    "import re\n",
    "import nltk\n",
    "import pdb\n",
    "import pandas as pd\n",
    "import matplotlib.pyplot as plt\n",
    "\n",
    "scraped_data = urllib.request.urlopen('https://en.wikipedia.org/wiki/Artificial_intelligence')\n",
    "article = scraped_data .read()\n",
    "\n",
    "parsed_article = bs.BeautifulSoup(article,'lxml')\n",
    "\n",
    "paragraphs = parsed_article.find_all('p')\n",
    "\n",
    "article_text = \"\"\n",
    "\n",
    "for p in paragraphs:\n",
    "    article_text += p.text"
   ]
  },
  {
   "cell_type": "markdown",
   "id": "artificial-grain",
   "metadata": {},
   "source": [
    "### 2) Pre-processing with nltk:\n",
    "- Download the necessary nltk packages for preprocessing\n",
    "- Remove all capital letters\n",
    "- Remove all punctuation\n",
    "- Remove extra whitespace\n",
    "- Break up the text into 'tokens', words and sentences pulled from the text\n",
    "- Remove all stopwords"
   ]
  },
  {
   "cell_type": "code",
   "execution_count": 7,
   "id": "split-stability",
   "metadata": {},
   "outputs": [
    {
     "name": "stderr",
     "output_type": "stream",
     "text": [
      "[nltk_data] Downloading package punkt to\n",
      "[nltk_data]     C:\\Users\\lbrutton\\AppData\\Roaming\\nltk_data...\n",
      "[nltk_data]   Package punkt is already up-to-date!\n",
      "[nltk_data] Downloading package stopwords to\n",
      "[nltk_data]     C:\\Users\\lbrutton\\AppData\\Roaming\\nltk_data...\n",
      "[nltk_data]   Unzipping corpora\\stopwords.zip.\n"
     ]
    },
    {
     "data": {
      "text/plain": [
       "True"
      ]
     },
     "execution_count": 7,
     "metadata": {},
     "output_type": "execute_result"
    }
   ],
   "source": [
    "nltk.download('punkt')\n",
    "nltk.download('stopwords')"
   ]
  },
  {
   "cell_type": "code",
   "execution_count": 46,
   "id": "south-valley",
   "metadata": {},
   "outputs": [],
   "source": [
    "# Cleaning the text\n",
    "processed_article = article_text.lower()\n",
    "processed_article = re.sub('[^a-zA-Z]', ' ', processed_article )\n",
    "processed_article = re.sub(r'\\s+', ' ', processed_article)\n",
    "\n",
    "# Preparing the dataset\n",
    "all_sentences = nltk.sent_tokenize(processed_article)\n",
    "\n",
    "all_words = [nltk.word_tokenize(sent) for sent in all_sentences]\n",
    "\n",
    "# Removing Stop Words\n",
    "from nltk.corpus import stopwords\n",
    "for i in range(len(all_words)):\n",
    "    all_words[i] = [w for w in all_words[i] if w not in stopwords.words('english')] "
   ]
  },
  {
   "cell_type": "code",
   "execution_count": 57,
   "id": "median-messaging",
   "metadata": {},
   "outputs": [
    {
     "data": {
      "text/plain": [
       "['artificial',\n",
       " 'intelligence',\n",
       " 'ai',\n",
       " 'intelligence',\n",
       " 'demonstrated',\n",
       " 'machines',\n",
       " 'unlike',\n",
       " 'natural',\n",
       " 'intelligence',\n",
       " 'displayed']"
      ]
     },
     "execution_count": 57,
     "metadata": {},
     "output_type": "execute_result"
    }
   ],
   "source": [
    "# Quick look at the first 10 words in the list\n",
    "all_words[0][:10]"
   ]
  },
  {
   "cell_type": "markdown",
   "id": "boolean-extra",
   "metadata": {},
   "source": [
    "### 3) Create a word2vec model:\n",
    "- Import the Gensim library\n",
    "- Create a Word2Vec model using our processed Wikipedia data"
   ]
  },
  {
   "cell_type": "code",
   "execution_count": 47,
   "id": "respiratory-casting",
   "metadata": {},
   "outputs": [],
   "source": [
    "from gensim.models import Word2Vec\n",
    "\n",
    "word2vec = Word2Vec(all_words, min_count=2)"
   ]
  },
  {
   "cell_type": "markdown",
   "id": "twelve-maldives",
   "metadata": {},
   "source": [
    "Below we just play around with the model a bit:"
   ]
  },
  {
   "cell_type": "code",
   "execution_count": 54,
   "id": "cheap-constitution",
   "metadata": {},
   "outputs": [
    {
     "name": "stdout",
     "output_type": "stream",
     "text": [
      "{'artificial': <gensim.models.keyedvectors.Vocab object at 0x000002BE6140FC10>, 'intelligence': <gensim.models.keyedvectors.Vocab object at 0x000002BE6140F070>, 'ai': <gensim.models.keyedvectors.Vocab object at 0x000002BE6140FE20>}\n"
     ]
    }
   ],
   "source": [
    "# Look at the first 3 items of the vocabulary\n",
    "vocabulary = word2vec.wv.vocab\n",
    "print(dict(list(vocabulary.items())[:3]))"
   ]
  },
  {
   "cell_type": "code",
   "execution_count": 117,
   "id": "atlantic-division",
   "metadata": {},
   "outputs": [],
   "source": [
    "# look at the vector representations of a few words\n",
    "v1 = word2vec.wv['artificial']\n",
    "v2 = word2vec.wv['humans']\n",
    "v3 = word2vec.wv['culture']"
   ]
  },
  {
   "cell_type": "code",
   "execution_count": 118,
   "id": "dress-mexican",
   "metadata": {},
   "outputs": [
    {
     "data": {
      "text/plain": [
       "[('machines', 0.43697279691696167),\n",
       " ('since', 0.430350661277771),\n",
       " ('could', 0.4271569848060608),\n",
       " ('intelligence', 0.4241136908531189),\n",
       " ('many', 0.4133265018463135),\n",
       " ('humans', 0.4035498797893524),\n",
       " ('agent', 0.40023863315582275),\n",
       " ('symbolic', 0.39071956276893616),\n",
       " ('ai', 0.3848167061805725),\n",
       " ('problem', 0.38158220052719116),\n",
       " ('task', 0.3632641136646271),\n",
       " ('like', 0.36277318000793457),\n",
       " ('example', 0.3608565628528595),\n",
       " ('use', 0.3595849573612213),\n",
       " ('research', 0.3543732166290283),\n",
       " ('control', 0.35093557834625244),\n",
       " ('level', 0.3437907099723816),\n",
       " ('moravec', 0.3342297077178955),\n",
       " ('approaches', 0.3305931091308594),\n",
       " ('program', 0.3302397131919861)]"
      ]
     },
     "execution_count": 118,
     "metadata": {},
     "output_type": "execute_result"
    }
   ],
   "source": [
    "# look at similar words to 'human'\n",
    "wiki_words = word2vec.wv.most_similar('human', topn=20)\n",
    "wiki_words"
   ]
  },
  {
   "cell_type": "markdown",
   "id": "direct-wichita",
   "metadata": {},
   "source": [
    "### 4) Pull a pre-trained model and compare:\n",
    "- Import the gensim downloader, which gives us access to gensim's pre-trained models\n",
    "- See how different the similar words to human are when we use a pre-trained word2vec model from Gensim"
   ]
  },
  {
   "cell_type": "code",
   "execution_count": 53,
   "id": "sound-registrar",
   "metadata": {},
   "outputs": [
    {
     "name": "stdout",
     "output_type": "stream",
     "text": [
      "[==================================================] 100.0% 104.8/104.8MB downloaded\n"
     ]
    }
   ],
   "source": [
    "import gensim.downloader\n",
    "glove_vectors = gensim.downloader.load('glove-twitter-25')"
   ]
  },
  {
   "cell_type": "code",
   "execution_count": 55,
   "id": "destroyed-drilling",
   "metadata": {},
   "outputs": [
    {
     "data": {
      "text/plain": [
       "[('common', 0.9221446514129639),\n",
       " ('powerful', 0.9064364433288574),\n",
       " ('example', 0.9053514003753662),\n",
       " ('society', 0.8996163606643677),\n",
       " ('age', 0.8994823694229126),\n",
       " ('freedom', 0.8900521993637085),\n",
       " ('child', 0.88453209400177),\n",
       " ('which', 0.8807503581047058),\n",
       " ('knowledge', 0.8800181150436401),\n",
       " ('woman', 0.8785547018051147)]"
      ]
     },
     "execution_count": 55,
     "metadata": {},
     "output_type": "execute_result"
    }
   ],
   "source": [
    "glove_vectors.most_similar('human')"
   ]
  },
  {
   "cell_type": "markdown",
   "id": "personal-person",
   "metadata": {},
   "source": [
    "### 5) Plot similar words for both models and compare:\n",
    "- Import TSNE from sklearn to be able to project the vectors into 2 dimensional space\n",
    "- Using the model trained on the wikipedia page, break the list of tuples for similar words to human into a list of words and a list of vectors\n",
    "- Use TSNE to obtain a list of 2 dimensional vectors from my human_vectors\n",
    "- Create and plot a dataframe of the resulting words and vectors"
   ]
  },
  {
   "cell_type": "code",
   "execution_count": 119,
   "id": "included-backing",
   "metadata": {},
   "outputs": [],
   "source": [
    "from sklearn.manifold import TSNE\n",
    "wiki_vocab = [a_tuple[0] for a_tuple in wiki_words]\n",
    "wiki_vectors = word2vec.wv[wiki_vocab]\n",
    "tsne = TSNE(n_components=2)\n",
    "X_wiki = tsne.fit_transform(human_vectors)\n",
    "df_wiki = pd.DataFrame(X_wiki, index=wiki_vocab, columns=['x', 'y'])"
   ]
  },
  {
   "cell_type": "markdown",
   "id": "dimensional-bracelet",
   "metadata": {},
   "source": [
    "- Repeat the same process, but using the pre-trained model from gensim\n",
    "- Plot the top 20 similar words to 'human' taken from both models"
   ]
  },
  {
   "cell_type": "code",
   "execution_count": 106,
   "id": "finite-split",
   "metadata": {},
   "outputs": [],
   "source": [
    "twitter_words = glove_vectors.most_similar('human', topn=20)\n",
    "twitter_vocab = [a_tuple[0] for a_tuple in twitter_words]\n",
    "twitter_vectors = glove_vectors[twitter_vocab]\n",
    "tsne = TSNE(n_components=2)\n",
    "X_twitter = tsne.fit_transform(twitter_vectors)\n",
    "df_twitter = pd.DataFrame(X_twitter, index=twitter_vocab, columns=['x', 'y'])"
   ]
  },
  {
   "cell_type": "code",
   "execution_count": 120,
   "id": "champion-terror",
   "metadata": {},
   "outputs": [
    {
     "data": {
      "image/png": "[encoded data removed]",
      "text/plain": [
       "<Figure size 1440x720 with 2 Axes>"
      ]
     },
     "metadata": {
      "needs_background": "light"
     },
     "output_type": "display_data"
    }
   ],
   "source": [
    "fig = plt.figure(figsize = [20,10])\n",
    "ax = fig.add_subplot(1, 2, 1)\n",
    "ax.scatter(df_wiki['x'], df_wiki['y'])\n",
    "ax.set_title('Words similar to human in wikipedia article about AI')\n",
    "for word, pos in df_wiki.iterrows():\n",
    "    ax.annotate(word, pos)\n",
    "    \n",
    "ax_2 = fig.add_subplot(1, 2, 2)\n",
    "ax_2.set_title('Words similar to human in Twitter')\n",
    "ax_2.scatter(df_twitter['x'], df_twitter['y'])\n",
    "for word, pos in df_twitter.iterrows():\n",
    "    ax_2.annotate(word, pos)"
   ]
  }
 ],
 "metadata": {
  "kernelspec": {
   "display_name": "Python 3",
   "language": "python",
   "name": "python3"
  },
  "language_info": {
   "codemirror_mode": {
    "name": "ipython",
    "version": 3
   },
   "file_extension": ".py",
   "mimetype": "text/x-python",
   "name": "python",
   "nbconvert_exporter": "python",
   "pygments_lexer": "ipython3",
   "version": "3.8.5"
  }
 },
 "nbformat": 4,
 "nbformat_minor": 5
}
